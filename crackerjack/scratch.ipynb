{
 "cells": [
  {
   "cell_type": "code",
   "execution_count": 1,
   "metadata": {},
   "outputs": [],
   "source": [
    "# fetch data from URL\n",
    "from requests import get\n",
    "url = \"https://www.hockey-reference.com/teams/VAN/2011_games.html\"\n",
    "data = get(url)"
   ]
  },
  {
   "cell_type": "code",
   "execution_count": 4,
   "metadata": {},
   "outputs": [
    {
     "name": "stdout",
     "output_type": "stream",
     "text": [
      "\n",
      "<!DOCTYPE html>\n",
      "<html data-version=\"klecko-\" data-root=\"/home/hr/build\" itemscope itemtype=\"https://schema.org/WebSite\" lang=\"en\" class=\"no-js\" >\n",
      "<head>\n",
      "    <meta charset=\"utf-8\">\n",
      "    <meta http-equi\n"
     ]
    }
   ],
   "source": [
    "#print(data.text[0:200])"
   ]
  },
  {
   "cell_type": "code",
   "execution_count": 4,
   "metadata": {},
   "outputs": [],
   "source": [
    "# convert/parse to bs4 object\n",
    "from bs4 import BeautifulSoup\n",
    "html_soup = BeautifulSoup(data.text, 'html.parser')"
   ]
  },
  {
   "cell_type": "code",
   "execution_count": 5,
   "metadata": {},
   "outputs": [],
   "source": [
    "# extract tables\n",
    "tables = html_soup.find_all('table', class_ = 'sortable stats_table')"
   ]
  },
  {
   "cell_type": "code",
   "execution_count": 6,
   "metadata": {},
   "outputs": [],
   "source": [
    "num_tables = len(tables)"
   ]
  },
  {
   "cell_type": "code",
   "execution_count": 25,
   "metadata": {},
   "outputs": [],
   "source": [
    "home = [x.text for x in tables[0].tbody.find_all('td', attrs={\"data-stat\": \"game_location\"})]"
   ]
  },
  {
   "cell_type": "code",
   "execution_count": 26,
   "metadata": {},
   "outputs": [
    {
     "data": {
      "text/plain": [
       "['',\n",
       " '',\n",
       " '@',\n",
       " '@',\n",
       " '',\n",
       " '@',\n",
       " '@',\n",
       " '',\n",
       " '',\n",
       " '',\n",
       " '@',\n",
       " '@',\n",
       " '',\n",
       " '@',\n",
       " '@',\n",
       " '@',\n",
       " '@',\n",
       " '@',\n",
       " '',\n",
       " '',\n",
       " '',\n",
       " '',\n",
       " '@',\n",
       " '@',\n",
       " '',\n",
       " '',\n",
       " '',\n",
       " '@',\n",
       " '',\n",
       " '',\n",
       " '@',\n",
       " '@',\n",
       " '@',\n",
       " '',\n",
       " '',\n",
       " '@',\n",
       " '@',\n",
       " '@',\n",
       " '',\n",
       " '',\n",
       " '',\n",
       " '@',\n",
       " '@',\n",
       " '@',\n",
       " '@',\n",
       " '@',\n",
       " '',\n",
       " '',\n",
       " '',\n",
       " '',\n",
       " '@',\n",
       " '@',\n",
       " '',\n",
       " '',\n",
       " '',\n",
       " '',\n",
       " '@',\n",
       " '@',\n",
       " '@',\n",
       " '',\n",
       " '',\n",
       " '',\n",
       " '',\n",
       " '',\n",
       " '',\n",
       " '@',\n",
       " '@',\n",
       " '@',\n",
       " '@',\n",
       " '@',\n",
       " '',\n",
       " '',\n",
       " '',\n",
       " '@',\n",
       " '@',\n",
       " '@',\n",
       " '@',\n",
       " '',\n",
       " '',\n",
       " '@',\n",
       " '',\n",
       " '@']"
      ]
     },
     "execution_count": 26,
     "metadata": {},
     "output_type": "execute_result"
    }
   ],
   "source": [
    "home"
   ]
  },
  {
   "cell_type": "code",
   "execution_count": 23,
   "metadata": {
    "scrolled": true
   },
   "outputs": [],
   "source": [
    "WL = [x.text for x in tables[0].tbody.find_all('td', attrs={\"data-stat\": \"game_outcome\"})]"
   ]
  },
  {
   "cell_type": "code",
   "execution_count": 24,
   "metadata": {},
   "outputs": [
    {
     "data": {
      "text/plain": [
       "['L',\n",
       " 'W',\n",
       " 'L',\n",
       " 'L',\n",
       " 'W',\n",
       " 'L',\n",
       " 'L',\n",
       " 'W',\n",
       " 'W',\n",
       " 'W',\n",
       " 'W',\n",
       " 'W',\n",
       " 'W',\n",
       " 'L',\n",
       " 'W',\n",
       " 'W',\n",
       " 'L',\n",
       " 'L',\n",
       " 'L',\n",
       " 'L',\n",
       " 'W',\n",
       " 'W',\n",
       " 'W',\n",
       " 'W',\n",
       " 'L',\n",
       " 'W',\n",
       " 'L',\n",
       " 'W',\n",
       " 'W',\n",
       " 'W',\n",
       " 'W',\n",
       " 'L',\n",
       " 'W',\n",
       " 'W',\n",
       " 'W',\n",
       " 'W',\n",
       " 'W',\n",
       " 'W',\n",
       " 'W',\n",
       " 'W',\n",
       " 'L',\n",
       " 'W',\n",
       " 'L',\n",
       " 'W',\n",
       " 'L',\n",
       " 'L',\n",
       " 'L',\n",
       " 'L',\n",
       " 'W',\n",
       " 'W',\n",
       " 'W',\n",
       " 'W',\n",
       " 'W',\n",
       " 'W',\n",
       " 'L',\n",
       " 'W',\n",
       " 'L',\n",
       " 'W',\n",
       " 'L',\n",
       " 'W',\n",
       " 'L',\n",
       " 'W',\n",
       " 'L',\n",
       " 'W',\n",
       " 'L',\n",
       " 'W',\n",
       " 'W',\n",
       " 'W',\n",
       " 'W',\n",
       " 'W',\n",
       " 'W',\n",
       " 'W',\n",
       " 'L',\n",
       " 'W',\n",
       " 'W',\n",
       " 'W',\n",
       " 'W',\n",
       " 'W',\n",
       " 'L',\n",
       " 'L',\n",
       " 'W',\n",
       " 'W']"
      ]
     },
     "execution_count": 24,
     "metadata": {},
     "output_type": "execute_result"
    }
   ],
   "source": [
    "WL"
   ]
  },
  {
   "cell_type": "code",
   "execution_count": 27,
   "metadata": {},
   "outputs": [],
   "source": [
    "import pandas"
   ]
  },
  {
   "cell_type": "code",
   "execution_count": 29,
   "metadata": {},
   "outputs": [],
   "source": [
    "d = {'home': home, 'WL': WL}\n",
    "df = pandas.DataFrame(d)"
   ]
  },
  {
   "cell_type": "code",
   "execution_count": 45,
   "metadata": {},
   "outputs": [],
   "source": [
    "def wins(x):\n",
    "    if x == \"L\":\n",
    "        return 0\n",
    "    else:\n",
    "        return 2\n",
    "\n",
    "df['WL_num'] = df['WL'].apply(wins)"
   ]
  },
  {
   "cell_type": "code",
   "execution_count": 46,
   "metadata": {},
   "outputs": [],
   "source": [
    "def home(x):\n",
    "    if x:\n",
    "        return 1\n",
    "    else:\n",
    "        return 0\n",
    "\n",
    "df['home_num'] = df['home'].apply(home)"
   ]
  },
  {
   "cell_type": "code",
   "execution_count": 49,
   "metadata": {},
   "outputs": [],
   "source": [
    "df['code'] = df['WL_num'] + df['home_num']"
   ]
  },
  {
   "cell_type": "code",
   "execution_count": 61,
   "metadata": {},
   "outputs": [
    {
     "name": "stdout",
     "output_type": "stream",
     "text": [
      "[0, 2, 1, 1, 2, 1, 1, 2, 2, 2, 3, 3, 2, 1, 3, 3, 1, 1, 0, 0, 2, 2, 3, 3, 0, 2, 0, 3, 2, 2, 3, 1, 3, 2, 2, 3, 3, 3, 2, 2, 0, 3, 1, 3, 1, 1, 0, 0, 2, 2, 3, 3, 2, 2, 0, 2, 1, 3, 1, 2, 0, 2, 0, 2, 0, 3, 3, 3, 3, 3, 2, 2, 0, 3, 3, 3, 3, 2, 0, 1, 2, 3]\n"
     ]
    }
   ],
   "source": [
    "coded = list(df['code'])\n",
    "print(coded)"
   ]
  },
  {
   "cell_type": "code",
   "execution_count": 75,
   "metadata": {},
   "outputs": [],
   "source": [
    "from ipythonblocks import BlockGrid\n",
    "from ipythonblocks import colors"
   ]
  },
  {
   "cell_type": "code",
   "execution_count": 84,
   "metadata": {},
   "outputs": [],
   "source": [
    "color_palette = {\n",
    "    0 : colors[\"Gray\"], # home loss\n",
    "    1 : colors[\"White\"], # away loss\n",
    "    2 : colors[\"ForestGreen\"], # home win\n",
    "    3 : colors[\"MediumBlue\"] # away win\n",
    "}\n",
    "base_color = (255, 255, 255)"
   ]
  },
  {
   "cell_type": "code",
   "execution_count": 85,
   "metadata": {},
   "outputs": [],
   "source": [
    "width = 4\n",
    "length = len(df)\n",
    "\n",
    "scarf = BlockGrid(width, length, fill=base_color)\n",
    "scarf.lines_on = False"
   ]
  },
  {
   "cell_type": "code",
   "execution_count": 86,
   "metadata": {},
   "outputs": [
    {
     "data": {
      "text/html": [
       "<style type=\"text/css\">table.blockgrid {border: none;} .blockgrid tr {border: none;} .blockgrid td {padding: 0px;} #blocksd75b5a25-9950-473b-8096-e0a151469cff td {border: 0px solid white;}</style><table id=\"blocksd75b5a25-9950-473b-8096-e0a151469cff\" class=\"blockgrid\"><tbody><tr><td title=\"Index: [0, 0]&#10;Color: (128, 128, 128)\" style=\"width: 20px; height: 20px;background-color: rgb(128, 128, 128);\"></td><td title=\"Index: [0, 1]&#10;Color: (128, 128, 128)\" style=\"width: 20px; height: 20px;background-color: rgb(128, 128, 128);\"></td><td title=\"Index: [0, 2]&#10;Color: (128, 128, 128)\" style=\"width: 20px; height: 20px;background-color: rgb(128, 128, 128);\"></td><td title=\"Index: [0, 3]&#10;Color: (128, 128, 128)\" style=\"width: 20px; height: 20px;background-color: rgb(128, 128, 128);\"></td></tr><tr><td title=\"Index: [1, 0]&#10;Color: (34, 139, 34)\" style=\"width: 20px; height: 20px;background-color: rgb(34, 139, 34);\"></td><td title=\"Index: [1, 1]&#10;Color: (34, 139, 34)\" style=\"width: 20px; height: 20px;background-color: rgb(34, 139, 34);\"></td><td title=\"Index: [1, 2]&#10;Color: (34, 139, 34)\" style=\"width: 20px; height: 20px;background-color: rgb(34, 139, 34);\"></td><td title=\"Index: [1, 3]&#10;Color: (34, 139, 34)\" style=\"width: 20px; height: 20px;background-color: rgb(34, 139, 34);\"></td></tr><tr><td title=\"Index: [2, 0]&#10;Color: (255, 255, 255)\" style=\"width: 20px; height: 20px;background-color: rgb(255, 255, 255);\"></td><td title=\"Index: [2, 1]&#10;Color: (255, 255, 255)\" style=\"width: 20px; height: 20px;background-color: rgb(255, 255, 255);\"></td><td title=\"Index: [2, 2]&#10;Color: (255, 255, 255)\" style=\"width: 20px; height: 20px;background-color: rgb(255, 255, 255);\"></td><td title=\"Index: [2, 3]&#10;Color: (255, 255, 255)\" style=\"width: 20px; height: 20px;background-color: rgb(255, 255, 255);\"></td></tr><tr><td title=\"Index: [3, 0]&#10;Color: (255, 255, 255)\" style=\"width: 20px; height: 20px;background-color: rgb(255, 255, 255);\"></td><td title=\"Index: [3, 1]&#10;Color: (255, 255, 255)\" style=\"width: 20px; height: 20px;background-color: rgb(255, 255, 255);\"></td><td title=\"Index: [3, 2]&#10;Color: (255, 255, 255)\" style=\"width: 20px; height: 20px;background-color: rgb(255, 255, 255);\"></td><td title=\"Index: [3, 3]&#10;Color: (255, 255, 255)\" style=\"width: 20px; height: 20px;background-color: rgb(255, 255, 255);\"></td></tr><tr><td title=\"Index: [4, 0]&#10;Color: (34, 139, 34)\" style=\"width: 20px; height: 20px;background-color: rgb(34, 139, 34);\"></td><td title=\"Index: [4, 1]&#10;Color: (34, 139, 34)\" style=\"width: 20px; height: 20px;background-color: rgb(34, 139, 34);\"></td><td title=\"Index: [4, 2]&#10;Color: (34, 139, 34)\" style=\"width: 20px; height: 20px;background-color: rgb(34, 139, 34);\"></td><td title=\"Index: [4, 3]&#10;Color: (34, 139, 34)\" style=\"width: 20px; height: 20px;background-color: rgb(34, 139, 34);\"></td></tr><tr><td title=\"Index: [5, 0]&#10;Color: (255, 255, 255)\" style=\"width: 20px; height: 20px;background-color: rgb(255, 255, 255);\"></td><td title=\"Index: [5, 1]&#10;Color: (255, 255, 255)\" style=\"width: 20px; height: 20px;background-color: rgb(255, 255, 255);\"></td><td title=\"Index: [5, 2]&#10;Color: (255, 255, 255)\" style=\"width: 20px; height: 20px;background-color: rgb(255, 255, 255);\"></td><td title=\"Index: [5, 3]&#10;Color: (255, 255, 255)\" style=\"width: 20px; height: 20px;background-color: rgb(255, 255, 255);\"></td></tr><tr><td title=\"Index: [6, 0]&#10;Color: (255, 255, 255)\" style=\"width: 20px; height: 20px;background-color: rgb(255, 255, 255);\"></td><td title=\"Index: [6, 1]&#10;Color: (255, 255, 255)\" style=\"width: 20px; height: 20px;background-color: rgb(255, 255, 255);\"></td><td title=\"Index: [6, 2]&#10;Color: (255, 255, 255)\" style=\"width: 20px; height: 20px;background-color: rgb(255, 255, 255);\"></td><td title=\"Index: [6, 3]&#10;Color: (255, 255, 255)\" style=\"width: 20px; height: 20px;background-color: rgb(255, 255, 255);\"></td></tr><tr><td title=\"Index: [7, 0]&#10;Color: (34, 139, 34)\" style=\"width: 20px; height: 20px;background-color: rgb(34, 139, 34);\"></td><td title=\"Index: [7, 1]&#10;Color: (34, 139, 34)\" style=\"width: 20px; height: 20px;background-color: rgb(34, 139, 34);\"></td><td title=\"Index: [7, 2]&#10;Color: (34, 139, 34)\" style=\"width: 20px; height: 20px;background-color: rgb(34, 139, 34);\"></td><td title=\"Index: [7, 3]&#10;Color: (34, 139, 34)\" style=\"width: 20px; height: 20px;background-color: rgb(34, 139, 34);\"></td></tr><tr><td title=\"Index: [8, 0]&#10;Color: (34, 139, 34)\" style=\"width: 20px; height: 20px;background-color: rgb(34, 139, 34);\"></td><td title=\"Index: [8, 1]&#10;Color: (34, 139, 34)\" style=\"width: 20px; height: 20px;background-color: rgb(34, 139, 34);\"></td><td title=\"Index: [8, 2]&#10;Color: (34, 139, 34)\" style=\"width: 20px; height: 20px;background-color: rgb(34, 139, 34);\"></td><td title=\"Index: [8, 3]&#10;Color: (34, 139, 34)\" style=\"width: 20px; height: 20px;background-color: rgb(34, 139, 34);\"></td></tr><tr><td title=\"Index: [9, 0]&#10;Color: (34, 139, 34)\" style=\"width: 20px; height: 20px;background-color: rgb(34, 139, 34);\"></td><td title=\"Index: [9, 1]&#10;Color: (34, 139, 34)\" style=\"width: 20px; height: 20px;background-color: rgb(34, 139, 34);\"></td><td title=\"Index: [9, 2]&#10;Color: (34, 139, 34)\" style=\"width: 20px; height: 20px;background-color: rgb(34, 139, 34);\"></td><td title=\"Index: [9, 3]&#10;Color: (34, 139, 34)\" style=\"width: 20px; height: 20px;background-color: rgb(34, 139, 34);\"></td></tr><tr><td title=\"Index: [10, 0]&#10;Color: (0, 0, 205)\" style=\"width: 20px; height: 20px;background-color: rgb(0, 0, 205);\"></td><td title=\"Index: [10, 1]&#10;Color: (0, 0, 205)\" style=\"width: 20px; height: 20px;background-color: rgb(0, 0, 205);\"></td><td title=\"Index: [10, 2]&#10;Color: (0, 0, 205)\" style=\"width: 20px; height: 20px;background-color: rgb(0, 0, 205);\"></td><td title=\"Index: [10, 3]&#10;Color: (0, 0, 205)\" style=\"width: 20px; height: 20px;background-color: rgb(0, 0, 205);\"></td></tr><tr><td title=\"Index: [11, 0]&#10;Color: (0, 0, 205)\" style=\"width: 20px; height: 20px;background-color: rgb(0, 0, 205);\"></td><td title=\"Index: [11, 1]&#10;Color: (0, 0, 205)\" style=\"width: 20px; height: 20px;background-color: rgb(0, 0, 205);\"></td><td title=\"Index: [11, 2]&#10;Color: (0, 0, 205)\" style=\"width: 20px; height: 20px;background-color: rgb(0, 0, 205);\"></td><td title=\"Index: [11, 3]&#10;Color: (0, 0, 205)\" style=\"width: 20px; height: 20px;background-color: rgb(0, 0, 205);\"></td></tr><tr><td title=\"Index: [12, 0]&#10;Color: (34, 139, 34)\" style=\"width: 20px; height: 20px;background-color: rgb(34, 139, 34);\"></td><td title=\"Index: [12, 1]&#10;Color: (34, 139, 34)\" style=\"width: 20px; height: 20px;background-color: rgb(34, 139, 34);\"></td><td title=\"Index: [12, 2]&#10;Color: (34, 139, 34)\" style=\"width: 20px; height: 20px;background-color: rgb(34, 139, 34);\"></td><td title=\"Index: [12, 3]&#10;Color: (34, 139, 34)\" style=\"width: 20px; height: 20px;background-color: rgb(34, 139, 34);\"></td></tr><tr><td title=\"Index: [13, 0]&#10;Color: (255, 255, 255)\" style=\"width: 20px; height: 20px;background-color: rgb(255, 255, 255);\"></td><td title=\"Index: [13, 1]&#10;Color: (255, 255, 255)\" style=\"width: 20px; height: 20px;background-color: rgb(255, 255, 255);\"></td><td title=\"Index: [13, 2]&#10;Color: (255, 255, 255)\" style=\"width: 20px; height: 20px;background-color: rgb(255, 255, 255);\"></td><td title=\"Index: [13, 3]&#10;Color: (255, 255, 255)\" style=\"width: 20px; height: 20px;background-color: rgb(255, 255, 255);\"></td></tr><tr><td title=\"Index: [14, 0]&#10;Color: (0, 0, 205)\" style=\"width: 20px; height: 20px;background-color: rgb(0, 0, 205);\"></td><td title=\"Index: [14, 1]&#10;Color: (0, 0, 205)\" style=\"width: 20px; height: 20px;background-color: rgb(0, 0, 205);\"></td><td title=\"Index: [14, 2]&#10;Color: (0, 0, 205)\" style=\"width: 20px; height: 20px;background-color: rgb(0, 0, 205);\"></td><td title=\"Index: [14, 3]&#10;Color: (0, 0, 205)\" style=\"width: 20px; height: 20px;background-color: rgb(0, 0, 205);\"></td></tr><tr><td title=\"Index: [15, 0]&#10;Color: (0, 0, 205)\" style=\"width: 20px; height: 20px;background-color: rgb(0, 0, 205);\"></td><td title=\"Index: [15, 1]&#10;Color: (0, 0, 205)\" style=\"width: 20px; height: 20px;background-color: rgb(0, 0, 205);\"></td><td title=\"Index: [15, 2]&#10;Color: (0, 0, 205)\" style=\"width: 20px; height: 20px;background-color: rgb(0, 0, 205);\"></td><td title=\"Index: [15, 3]&#10;Color: (0, 0, 205)\" style=\"width: 20px; height: 20px;background-color: rgb(0, 0, 205);\"></td></tr><tr><td title=\"Index: [16, 0]&#10;Color: (255, 255, 255)\" style=\"width: 20px; height: 20px;background-color: rgb(255, 255, 255);\"></td><td title=\"Index: [16, 1]&#10;Color: (255, 255, 255)\" style=\"width: 20px; height: 20px;background-color: rgb(255, 255, 255);\"></td><td title=\"Index: [16, 2]&#10;Color: (255, 255, 255)\" style=\"width: 20px; height: 20px;background-color: rgb(255, 255, 255);\"></td><td title=\"Index: [16, 3]&#10;Color: (255, 255, 255)\" style=\"width: 20px; height: 20px;background-color: rgb(255, 255, 255);\"></td></tr><tr><td title=\"Index: [17, 0]&#10;Color: (255, 255, 255)\" style=\"width: 20px; height: 20px;background-color: rgb(255, 255, 255);\"></td><td title=\"Index: [17, 1]&#10;Color: (255, 255, 255)\" style=\"width: 20px; height: 20px;background-color: rgb(255, 255, 255);\"></td><td title=\"Index: [17, 2]&#10;Color: (255, 255, 255)\" style=\"width: 20px; height: 20px;background-color: rgb(255, 255, 255);\"></td><td title=\"Index: [17, 3]&#10;Color: (255, 255, 255)\" style=\"width: 20px; height: 20px;background-color: rgb(255, 255, 255);\"></td></tr><tr><td title=\"Index: [18, 0]&#10;Color: (128, 128, 128)\" style=\"width: 20px; height: 20px;background-color: rgb(128, 128, 128);\"></td><td title=\"Index: [18, 1]&#10;Color: (128, 128, 128)\" style=\"width: 20px; height: 20px;background-color: rgb(128, 128, 128);\"></td><td title=\"Index: [18, 2]&#10;Color: (128, 128, 128)\" style=\"width: 20px; height: 20px;background-color: rgb(128, 128, 128);\"></td><td title=\"Index: [18, 3]&#10;Color: (128, 128, 128)\" style=\"width: 20px; height: 20px;background-color: rgb(128, 128, 128);\"></td></tr><tr><td title=\"Index: [19, 0]&#10;Color: (128, 128, 128)\" style=\"width: 20px; height: 20px;background-color: rgb(128, 128, 128);\"></td><td title=\"Index: [19, 1]&#10;Color: (128, 128, 128)\" style=\"width: 20px; height: 20px;background-color: rgb(128, 128, 128);\"></td><td title=\"Index: [19, 2]&#10;Color: (128, 128, 128)\" style=\"width: 20px; height: 20px;background-color: rgb(128, 128, 128);\"></td><td title=\"Index: [19, 3]&#10;Color: (128, 128, 128)\" style=\"width: 20px; height: 20px;background-color: rgb(128, 128, 128);\"></td></tr><tr><td title=\"Index: [20, 0]&#10;Color: (34, 139, 34)\" style=\"width: 20px; height: 20px;background-color: rgb(34, 139, 34);\"></td><td title=\"Index: [20, 1]&#10;Color: (34, 139, 34)\" style=\"width: 20px; height: 20px;background-color: rgb(34, 139, 34);\"></td><td title=\"Index: [20, 2]&#10;Color: (34, 139, 34)\" style=\"width: 20px; height: 20px;background-color: rgb(34, 139, 34);\"></td><td title=\"Index: [20, 3]&#10;Color: (34, 139, 34)\" style=\"width: 20px; height: 20px;background-color: rgb(34, 139, 34);\"></td></tr><tr><td title=\"Index: [21, 0]&#10;Color: (34, 139, 34)\" style=\"width: 20px; height: 20px;background-color: rgb(34, 139, 34);\"></td><td title=\"Index: [21, 1]&#10;Color: (34, 139, 34)\" style=\"width: 20px; height: 20px;background-color: rgb(34, 139, 34);\"></td><td title=\"Index: [21, 2]&#10;Color: (34, 139, 34)\" style=\"width: 20px; height: 20px;background-color: rgb(34, 139, 34);\"></td><td title=\"Index: [21, 3]&#10;Color: (34, 139, 34)\" style=\"width: 20px; height: 20px;background-color: rgb(34, 139, 34);\"></td></tr><tr><td title=\"Index: [22, 0]&#10;Color: (0, 0, 205)\" style=\"width: 20px; height: 20px;background-color: rgb(0, 0, 205);\"></td><td title=\"Index: [22, 1]&#10;Color: (0, 0, 205)\" style=\"width: 20px; height: 20px;background-color: rgb(0, 0, 205);\"></td><td title=\"Index: [22, 2]&#10;Color: (0, 0, 205)\" style=\"width: 20px; height: 20px;background-color: rgb(0, 0, 205);\"></td><td title=\"Index: [22, 3]&#10;Color: (0, 0, 205)\" style=\"width: 20px; height: 20px;background-color: rgb(0, 0, 205);\"></td></tr><tr><td title=\"Index: [23, 0]&#10;Color: (0, 0, 205)\" style=\"width: 20px; height: 20px;background-color: rgb(0, 0, 205);\"></td><td title=\"Index: [23, 1]&#10;Color: (0, 0, 205)\" style=\"width: 20px; height: 20px;background-color: rgb(0, 0, 205);\"></td><td title=\"Index: [23, 2]&#10;Color: (0, 0, 205)\" style=\"width: 20px; height: 20px;background-color: rgb(0, 0, 205);\"></td><td title=\"Index: [23, 3]&#10;Color: (0, 0, 205)\" style=\"width: 20px; height: 20px;background-color: rgb(0, 0, 205);\"></td></tr><tr><td title=\"Index: [24, 0]&#10;Color: (128, 128, 128)\" style=\"width: 20px; height: 20px;background-color: rgb(128, 128, 128);\"></td><td title=\"Index: [24, 1]&#10;Color: (128, 128, 128)\" style=\"width: 20px; height: 20px;background-color: rgb(128, 128, 128);\"></td><td title=\"Index: [24, 2]&#10;Color: (128, 128, 128)\" style=\"width: 20px; height: 20px;background-color: rgb(128, 128, 128);\"></td><td title=\"Index: [24, 3]&#10;Color: (128, 128, 128)\" style=\"width: 20px; height: 20px;background-color: rgb(128, 128, 128);\"></td></tr><tr><td title=\"Index: [25, 0]&#10;Color: (34, 139, 34)\" style=\"width: 20px; height: 20px;background-color: rgb(34, 139, 34);\"></td><td title=\"Index: [25, 1]&#10;Color: (34, 139, 34)\" style=\"width: 20px; height: 20px;background-color: rgb(34, 139, 34);\"></td><td title=\"Index: [25, 2]&#10;Color: (34, 139, 34)\" style=\"width: 20px; height: 20px;background-color: rgb(34, 139, 34);\"></td><td title=\"Index: [25, 3]&#10;Color: (34, 139, 34)\" style=\"width: 20px; height: 20px;background-color: rgb(34, 139, 34);\"></td></tr><tr><td title=\"Index: [26, 0]&#10;Color: (128, 128, 128)\" style=\"width: 20px; height: 20px;background-color: rgb(128, 128, 128);\"></td><td title=\"Index: [26, 1]&#10;Color: (128, 128, 128)\" style=\"width: 20px; height: 20px;background-color: rgb(128, 128, 128);\"></td><td title=\"Index: [26, 2]&#10;Color: (128, 128, 128)\" style=\"width: 20px; height: 20px;background-color: rgb(128, 128, 128);\"></td><td title=\"Index: [26, 3]&#10;Color: (128, 128, 128)\" style=\"width: 20px; height: 20px;background-color: rgb(128, 128, 128);\"></td></tr><tr><td title=\"Index: [27, 0]&#10;Color: (0, 0, 205)\" style=\"width: 20px; height: 20px;background-color: rgb(0, 0, 205);\"></td><td title=\"Index: [27, 1]&#10;Color: (0, 0, 205)\" style=\"width: 20px; height: 20px;background-color: rgb(0, 0, 205);\"></td><td title=\"Index: [27, 2]&#10;Color: (0, 0, 205)\" style=\"width: 20px; height: 20px;background-color: rgb(0, 0, 205);\"></td><td title=\"Index: [27, 3]&#10;Color: (0, 0, 205)\" style=\"width: 20px; height: 20px;background-color: rgb(0, 0, 205);\"></td></tr><tr><td title=\"Index: [28, 0]&#10;Color: (34, 139, 34)\" style=\"width: 20px; height: 20px;background-color: rgb(34, 139, 34);\"></td><td title=\"Index: [28, 1]&#10;Color: (34, 139, 34)\" style=\"width: 20px; height: 20px;background-color: rgb(34, 139, 34);\"></td><td title=\"Index: [28, 2]&#10;Color: (34, 139, 34)\" style=\"width: 20px; height: 20px;background-color: rgb(34, 139, 34);\"></td><td title=\"Index: [28, 3]&#10;Color: (34, 139, 34)\" style=\"width: 20px; height: 20px;background-color: rgb(34, 139, 34);\"></td></tr><tr><td title=\"Index: [29, 0]&#10;Color: (34, 139, 34)\" style=\"width: 20px; height: 20px;background-color: rgb(34, 139, 34);\"></td><td title=\"Index: [29, 1]&#10;Color: (34, 139, 34)\" style=\"width: 20px; height: 20px;background-color: rgb(34, 139, 34);\"></td><td title=\"Index: [29, 2]&#10;Color: (34, 139, 34)\" style=\"width: 20px; height: 20px;background-color: rgb(34, 139, 34);\"></td><td title=\"Index: [29, 3]&#10;Color: (34, 139, 34)\" style=\"width: 20px; height: 20px;background-color: rgb(34, 139, 34);\"></td></tr><tr><td title=\"Index: [30, 0]&#10;Color: (0, 0, 205)\" style=\"width: 20px; height: 20px;background-color: rgb(0, 0, 205);\"></td><td title=\"Index: [30, 1]&#10;Color: (0, 0, 205)\" style=\"width: 20px; height: 20px;background-color: rgb(0, 0, 205);\"></td><td title=\"Index: [30, 2]&#10;Color: (0, 0, 205)\" style=\"width: 20px; height: 20px;background-color: rgb(0, 0, 205);\"></td><td title=\"Index: [30, 3]&#10;Color: (0, 0, 205)\" style=\"width: 20px; height: 20px;background-color: rgb(0, 0, 205);\"></td></tr><tr><td title=\"Index: [31, 0]&#10;Color: (255, 255, 255)\" style=\"width: 20px; height: 20px;background-color: rgb(255, 255, 255);\"></td><td title=\"Index: [31, 1]&#10;Color: (255, 255, 255)\" style=\"width: 20px; height: 20px;background-color: rgb(255, 255, 255);\"></td><td title=\"Index: [31, 2]&#10;Color: (255, 255, 255)\" style=\"width: 20px; height: 20px;background-color: rgb(255, 255, 255);\"></td><td title=\"Index: [31, 3]&#10;Color: (255, 255, 255)\" style=\"width: 20px; height: 20px;background-color: rgb(255, 255, 255);\"></td></tr><tr><td title=\"Index: [32, 0]&#10;Color: (0, 0, 205)\" style=\"width: 20px; height: 20px;background-color: rgb(0, 0, 205);\"></td><td title=\"Index: [32, 1]&#10;Color: (0, 0, 205)\" style=\"width: 20px; height: 20px;background-color: rgb(0, 0, 205);\"></td><td title=\"Index: [32, 2]&#10;Color: (0, 0, 205)\" style=\"width: 20px; height: 20px;background-color: rgb(0, 0, 205);\"></td><td title=\"Index: [32, 3]&#10;Color: (0, 0, 205)\" style=\"width: 20px; height: 20px;background-color: rgb(0, 0, 205);\"></td></tr><tr><td title=\"Index: [33, 0]&#10;Color: (34, 139, 34)\" style=\"width: 20px; height: 20px;background-color: rgb(34, 139, 34);\"></td><td title=\"Index: [33, 1]&#10;Color: (34, 139, 34)\" style=\"width: 20px; height: 20px;background-color: rgb(34, 139, 34);\"></td><td title=\"Index: [33, 2]&#10;Color: (34, 139, 34)\" style=\"width: 20px; height: 20px;background-color: rgb(34, 139, 34);\"></td><td title=\"Index: [33, 3]&#10;Color: (34, 139, 34)\" style=\"width: 20px; height: 20px;background-color: rgb(34, 139, 34);\"></td></tr><tr><td title=\"Index: [34, 0]&#10;Color: (34, 139, 34)\" style=\"width: 20px; height: 20px;background-color: rgb(34, 139, 34);\"></td><td title=\"Index: [34, 1]&#10;Color: (34, 139, 34)\" style=\"width: 20px; height: 20px;background-color: rgb(34, 139, 34);\"></td><td title=\"Index: [34, 2]&#10;Color: (34, 139, 34)\" style=\"width: 20px; height: 20px;background-color: rgb(34, 139, 34);\"></td><td title=\"Index: [34, 3]&#10;Color: (34, 139, 34)\" style=\"width: 20px; height: 20px;background-color: rgb(34, 139, 34);\"></td></tr><tr><td title=\"Index: [35, 0]&#10;Color: (0, 0, 205)\" style=\"width: 20px; height: 20px;background-color: rgb(0, 0, 205);\"></td><td title=\"Index: [35, 1]&#10;Color: (0, 0, 205)\" style=\"width: 20px; height: 20px;background-color: rgb(0, 0, 205);\"></td><td title=\"Index: [35, 2]&#10;Color: (0, 0, 205)\" style=\"width: 20px; height: 20px;background-color: rgb(0, 0, 205);\"></td><td title=\"Index: [35, 3]&#10;Color: (0, 0, 205)\" style=\"width: 20px; height: 20px;background-color: rgb(0, 0, 205);\"></td></tr><tr><td title=\"Index: [36, 0]&#10;Color: (0, 0, 205)\" style=\"width: 20px; height: 20px;background-color: rgb(0, 0, 205);\"></td><td title=\"Index: [36, 1]&#10;Color: (0, 0, 205)\" style=\"width: 20px; height: 20px;background-color: rgb(0, 0, 205);\"></td><td title=\"Index: [36, 2]&#10;Color: (0, 0, 205)\" style=\"width: 20px; height: 20px;background-color: rgb(0, 0, 205);\"></td><td title=\"Index: [36, 3]&#10;Color: (0, 0, 205)\" style=\"width: 20px; height: 20px;background-color: rgb(0, 0, 205);\"></td></tr><tr><td title=\"Index: [37, 0]&#10;Color: (0, 0, 205)\" style=\"width: 20px; height: 20px;background-color: rgb(0, 0, 205);\"></td><td title=\"Index: [37, 1]&#10;Color: (0, 0, 205)\" style=\"width: 20px; height: 20px;background-color: rgb(0, 0, 205);\"></td><td title=\"Index: [37, 2]&#10;Color: (0, 0, 205)\" style=\"width: 20px; height: 20px;background-color: rgb(0, 0, 205);\"></td><td title=\"Index: [37, 3]&#10;Color: (0, 0, 205)\" style=\"width: 20px; height: 20px;background-color: rgb(0, 0, 205);\"></td></tr><tr><td title=\"Index: [38, 0]&#10;Color: (34, 139, 34)\" style=\"width: 20px; height: 20px;background-color: rgb(34, 139, 34);\"></td><td title=\"Index: [38, 1]&#10;Color: (34, 139, 34)\" style=\"width: 20px; height: 20px;background-color: rgb(34, 139, 34);\"></td><td title=\"Index: [38, 2]&#10;Color: (34, 139, 34)\" style=\"width: 20px; height: 20px;background-color: rgb(34, 139, 34);\"></td><td title=\"Index: [38, 3]&#10;Color: (34, 139, 34)\" style=\"width: 20px; height: 20px;background-color: rgb(34, 139, 34);\"></td></tr><tr><td title=\"Index: [39, 0]&#10;Color: (34, 139, 34)\" style=\"width: 20px; height: 20px;background-color: rgb(34, 139, 34);\"></td><td title=\"Index: [39, 1]&#10;Color: (34, 139, 34)\" style=\"width: 20px; height: 20px;background-color: rgb(34, 139, 34);\"></td><td title=\"Index: [39, 2]&#10;Color: (34, 139, 34)\" style=\"width: 20px; height: 20px;background-color: rgb(34, 139, 34);\"></td><td title=\"Index: [39, 3]&#10;Color: (34, 139, 34)\" style=\"width: 20px; height: 20px;background-color: rgb(34, 139, 34);\"></td></tr><tr><td title=\"Index: [40, 0]&#10;Color: (128, 128, 128)\" style=\"width: 20px; height: 20px;background-color: rgb(128, 128, 128);\"></td><td title=\"Index: [40, 1]&#10;Color: (128, 128, 128)\" style=\"width: 20px; height: 20px;background-color: rgb(128, 128, 128);\"></td><td title=\"Index: [40, 2]&#10;Color: (128, 128, 128)\" style=\"width: 20px; height: 20px;background-color: rgb(128, 128, 128);\"></td><td title=\"Index: [40, 3]&#10;Color: (128, 128, 128)\" style=\"width: 20px; height: 20px;background-color: rgb(128, 128, 128);\"></td></tr><tr><td title=\"Index: [41, 0]&#10;Color: (0, 0, 205)\" style=\"width: 20px; height: 20px;background-color: rgb(0, 0, 205);\"></td><td title=\"Index: [41, 1]&#10;Color: (0, 0, 205)\" style=\"width: 20px; height: 20px;background-color: rgb(0, 0, 205);\"></td><td title=\"Index: [41, 2]&#10;Color: (0, 0, 205)\" style=\"width: 20px; height: 20px;background-color: rgb(0, 0, 205);\"></td><td title=\"Index: [41, 3]&#10;Color: (0, 0, 205)\" style=\"width: 20px; height: 20px;background-color: rgb(0, 0, 205);\"></td></tr><tr><td title=\"Index: [42, 0]&#10;Color: (255, 255, 255)\" style=\"width: 20px; height: 20px;background-color: rgb(255, 255, 255);\"></td><td title=\"Index: [42, 1]&#10;Color: (255, 255, 255)\" style=\"width: 20px; height: 20px;background-color: rgb(255, 255, 255);\"></td><td title=\"Index: [42, 2]&#10;Color: (255, 255, 255)\" style=\"width: 20px; height: 20px;background-color: rgb(255, 255, 255);\"></td><td title=\"Index: [42, 3]&#10;Color: (255, 255, 255)\" style=\"width: 20px; height: 20px;background-color: rgb(255, 255, 255);\"></td></tr><tr><td title=\"Index: [43, 0]&#10;Color: (0, 0, 205)\" style=\"width: 20px; height: 20px;background-color: rgb(0, 0, 205);\"></td><td title=\"Index: [43, 1]&#10;Color: (0, 0, 205)\" style=\"width: 20px; height: 20px;background-color: rgb(0, 0, 205);\"></td><td title=\"Index: [43, 2]&#10;Color: (0, 0, 205)\" style=\"width: 20px; height: 20px;background-color: rgb(0, 0, 205);\"></td><td title=\"Index: [43, 3]&#10;Color: (0, 0, 205)\" style=\"width: 20px; height: 20px;background-color: rgb(0, 0, 205);\"></td></tr><tr><td title=\"Index: [44, 0]&#10;Color: (255, 255, 255)\" style=\"width: 20px; height: 20px;background-color: rgb(255, 255, 255);\"></td><td title=\"Index: [44, 1]&#10;Color: (255, 255, 255)\" style=\"width: 20px; height: 20px;background-color: rgb(255, 255, 255);\"></td><td title=\"Index: [44, 2]&#10;Color: (255, 255, 255)\" style=\"width: 20px; height: 20px;background-color: rgb(255, 255, 255);\"></td><td title=\"Index: [44, 3]&#10;Color: (255, 255, 255)\" style=\"width: 20px; height: 20px;background-color: rgb(255, 255, 255);\"></td></tr><tr><td title=\"Index: [45, 0]&#10;Color: (255, 255, 255)\" style=\"width: 20px; height: 20px;background-color: rgb(255, 255, 255);\"></td><td title=\"Index: [45, 1]&#10;Color: (255, 255, 255)\" style=\"width: 20px; height: 20px;background-color: rgb(255, 255, 255);\"></td><td title=\"Index: [45, 2]&#10;Color: (255, 255, 255)\" style=\"width: 20px; height: 20px;background-color: rgb(255, 255, 255);\"></td><td title=\"Index: [45, 3]&#10;Color: (255, 255, 255)\" style=\"width: 20px; height: 20px;background-color: rgb(255, 255, 255);\"></td></tr><tr><td title=\"Index: [46, 0]&#10;Color: (128, 128, 128)\" style=\"width: 20px; height: 20px;background-color: rgb(128, 128, 128);\"></td><td title=\"Index: [46, 1]&#10;Color: (128, 128, 128)\" style=\"width: 20px; height: 20px;background-color: rgb(128, 128, 128);\"></td><td title=\"Index: [46, 2]&#10;Color: (128, 128, 128)\" style=\"width: 20px; height: 20px;background-color: rgb(128, 128, 128);\"></td><td title=\"Index: [46, 3]&#10;Color: (128, 128, 128)\" style=\"width: 20px; height: 20px;background-color: rgb(128, 128, 128);\"></td></tr><tr><td title=\"Index: [47, 0]&#10;Color: (128, 128, 128)\" style=\"width: 20px; height: 20px;background-color: rgb(128, 128, 128);\"></td><td title=\"Index: [47, 1]&#10;Color: (128, 128, 128)\" style=\"width: 20px; height: 20px;background-color: rgb(128, 128, 128);\"></td><td title=\"Index: [47, 2]&#10;Color: (128, 128, 128)\" style=\"width: 20px; height: 20px;background-color: rgb(128, 128, 128);\"></td><td title=\"Index: [47, 3]&#10;Color: (128, 128, 128)\" style=\"width: 20px; height: 20px;background-color: rgb(128, 128, 128);\"></td></tr><tr><td title=\"Index: [48, 0]&#10;Color: (34, 139, 34)\" style=\"width: 20px; height: 20px;background-color: rgb(34, 139, 34);\"></td><td title=\"Index: [48, 1]&#10;Color: (34, 139, 34)\" style=\"width: 20px; height: 20px;background-color: rgb(34, 139, 34);\"></td><td title=\"Index: [48, 2]&#10;Color: (34, 139, 34)\" style=\"width: 20px; height: 20px;background-color: rgb(34, 139, 34);\"></td><td title=\"Index: [48, 3]&#10;Color: (34, 139, 34)\" style=\"width: 20px; height: 20px;background-color: rgb(34, 139, 34);\"></td></tr><tr><td title=\"Index: [49, 0]&#10;Color: (34, 139, 34)\" style=\"width: 20px; height: 20px;background-color: rgb(34, 139, 34);\"></td><td title=\"Index: [49, 1]&#10;Color: (34, 139, 34)\" style=\"width: 20px; height: 20px;background-color: rgb(34, 139, 34);\"></td><td title=\"Index: [49, 2]&#10;Color: (34, 139, 34)\" style=\"width: 20px; height: 20px;background-color: rgb(34, 139, 34);\"></td><td title=\"Index: [49, 3]&#10;Color: (34, 139, 34)\" style=\"width: 20px; height: 20px;background-color: rgb(34, 139, 34);\"></td></tr><tr><td title=\"Index: [50, 0]&#10;Color: (0, 0, 205)\" style=\"width: 20px; height: 20px;background-color: rgb(0, 0, 205);\"></td><td title=\"Index: [50, 1]&#10;Color: (0, 0, 205)\" style=\"width: 20px; height: 20px;background-color: rgb(0, 0, 205);\"></td><td title=\"Index: [50, 2]&#10;Color: (0, 0, 205)\" style=\"width: 20px; height: 20px;background-color: rgb(0, 0, 205);\"></td><td title=\"Index: [50, 3]&#10;Color: (0, 0, 205)\" style=\"width: 20px; height: 20px;background-color: rgb(0, 0, 205);\"></td></tr><tr><td title=\"Index: [51, 0]&#10;Color: (0, 0, 205)\" style=\"width: 20px; height: 20px;background-color: rgb(0, 0, 205);\"></td><td title=\"Index: [51, 1]&#10;Color: (0, 0, 205)\" style=\"width: 20px; height: 20px;background-color: rgb(0, 0, 205);\"></td><td title=\"Index: [51, 2]&#10;Color: (0, 0, 205)\" style=\"width: 20px; height: 20px;background-color: rgb(0, 0, 205);\"></td><td title=\"Index: [51, 3]&#10;Color: (0, 0, 205)\" style=\"width: 20px; height: 20px;background-color: rgb(0, 0, 205);\"></td></tr><tr><td title=\"Index: [52, 0]&#10;Color: (34, 139, 34)\" style=\"width: 20px; height: 20px;background-color: rgb(34, 139, 34);\"></td><td title=\"Index: [52, 1]&#10;Color: (34, 139, 34)\" style=\"width: 20px; height: 20px;background-color: rgb(34, 139, 34);\"></td><td title=\"Index: [52, 2]&#10;Color: (34, 139, 34)\" style=\"width: 20px; height: 20px;background-color: rgb(34, 139, 34);\"></td><td title=\"Index: [52, 3]&#10;Color: (34, 139, 34)\" style=\"width: 20px; height: 20px;background-color: rgb(34, 139, 34);\"></td></tr><tr><td title=\"Index: [53, 0]&#10;Color: (34, 139, 34)\" style=\"width: 20px; height: 20px;background-color: rgb(34, 139, 34);\"></td><td title=\"Index: [53, 1]&#10;Color: (34, 139, 34)\" style=\"width: 20px; height: 20px;background-color: rgb(34, 139, 34);\"></td><td title=\"Index: [53, 2]&#10;Color: (34, 139, 34)\" style=\"width: 20px; height: 20px;background-color: rgb(34, 139, 34);\"></td><td title=\"Index: [53, 3]&#10;Color: (34, 139, 34)\" style=\"width: 20px; height: 20px;background-color: rgb(34, 139, 34);\"></td></tr><tr><td title=\"Index: [54, 0]&#10;Color: (128, 128, 128)\" style=\"width: 20px; height: 20px;background-color: rgb(128, 128, 128);\"></td><td title=\"Index: [54, 1]&#10;Color: (128, 128, 128)\" style=\"width: 20px; height: 20px;background-color: rgb(128, 128, 128);\"></td><td title=\"Index: [54, 2]&#10;Color: (128, 128, 128)\" style=\"width: 20px; height: 20px;background-color: rgb(128, 128, 128);\"></td><td title=\"Index: [54, 3]&#10;Color: (128, 128, 128)\" style=\"width: 20px; height: 20px;background-color: rgb(128, 128, 128);\"></td></tr><tr><td title=\"Index: [55, 0]&#10;Color: (34, 139, 34)\" style=\"width: 20px; height: 20px;background-color: rgb(34, 139, 34);\"></td><td title=\"Index: [55, 1]&#10;Color: (34, 139, 34)\" style=\"width: 20px; height: 20px;background-color: rgb(34, 139, 34);\"></td><td title=\"Index: [55, 2]&#10;Color: (34, 139, 34)\" style=\"width: 20px; height: 20px;background-color: rgb(34, 139, 34);\"></td><td title=\"Index: [55, 3]&#10;Color: (34, 139, 34)\" style=\"width: 20px; height: 20px;background-color: rgb(34, 139, 34);\"></td></tr><tr><td title=\"Index: [56, 0]&#10;Color: (255, 255, 255)\" style=\"width: 20px; height: 20px;background-color: rgb(255, 255, 255);\"></td><td title=\"Index: [56, 1]&#10;Color: (255, 255, 255)\" style=\"width: 20px; height: 20px;background-color: rgb(255, 255, 255);\"></td><td title=\"Index: [56, 2]&#10;Color: (255, 255, 255)\" style=\"width: 20px; height: 20px;background-color: rgb(255, 255, 255);\"></td><td title=\"Index: [56, 3]&#10;Color: (255, 255, 255)\" style=\"width: 20px; height: 20px;background-color: rgb(255, 255, 255);\"></td></tr><tr><td title=\"Index: [57, 0]&#10;Color: (0, 0, 205)\" style=\"width: 20px; height: 20px;background-color: rgb(0, 0, 205);\"></td><td title=\"Index: [57, 1]&#10;Color: (0, 0, 205)\" style=\"width: 20px; height: 20px;background-color: rgb(0, 0, 205);\"></td><td title=\"Index: [57, 2]&#10;Color: (0, 0, 205)\" style=\"width: 20px; height: 20px;background-color: rgb(0, 0, 205);\"></td><td title=\"Index: [57, 3]&#10;Color: (0, 0, 205)\" style=\"width: 20px; height: 20px;background-color: rgb(0, 0, 205);\"></td></tr><tr><td title=\"Index: [58, 0]&#10;Color: (255, 255, 255)\" style=\"width: 20px; height: 20px;background-color: rgb(255, 255, 255);\"></td><td title=\"Index: [58, 1]&#10;Color: (255, 255, 255)\" style=\"width: 20px; height: 20px;background-color: rgb(255, 255, 255);\"></td><td title=\"Index: [58, 2]&#10;Color: (255, 255, 255)\" style=\"width: 20px; height: 20px;background-color: rgb(255, 255, 255);\"></td><td title=\"Index: [58, 3]&#10;Color: (255, 255, 255)\" style=\"width: 20px; height: 20px;background-color: rgb(255, 255, 255);\"></td></tr><tr><td title=\"Index: [59, 0]&#10;Color: (34, 139, 34)\" style=\"width: 20px; height: 20px;background-color: rgb(34, 139, 34);\"></td><td title=\"Index: [59, 1]&#10;Color: (34, 139, 34)\" style=\"width: 20px; height: 20px;background-color: rgb(34, 139, 34);\"></td><td title=\"Index: [59, 2]&#10;Color: (34, 139, 34)\" style=\"width: 20px; height: 20px;background-color: rgb(34, 139, 34);\"></td><td title=\"Index: [59, 3]&#10;Color: (34, 139, 34)\" style=\"width: 20px; height: 20px;background-color: rgb(34, 139, 34);\"></td></tr><tr><td title=\"Index: [60, 0]&#10;Color: (128, 128, 128)\" style=\"width: 20px; height: 20px;background-color: rgb(128, 128, 128);\"></td><td title=\"Index: [60, 1]&#10;Color: (128, 128, 128)\" style=\"width: 20px; height: 20px;background-color: rgb(128, 128, 128);\"></td><td title=\"Index: [60, 2]&#10;Color: (128, 128, 128)\" style=\"width: 20px; height: 20px;background-color: rgb(128, 128, 128);\"></td><td title=\"Index: [60, 3]&#10;Color: (128, 128, 128)\" style=\"width: 20px; height: 20px;background-color: rgb(128, 128, 128);\"></td></tr><tr><td title=\"Index: [61, 0]&#10;Color: (34, 139, 34)\" style=\"width: 20px; height: 20px;background-color: rgb(34, 139, 34);\"></td><td title=\"Index: [61, 1]&#10;Color: (34, 139, 34)\" style=\"width: 20px; height: 20px;background-color: rgb(34, 139, 34);\"></td><td title=\"Index: [61, 2]&#10;Color: (34, 139, 34)\" style=\"width: 20px; height: 20px;background-color: rgb(34, 139, 34);\"></td><td title=\"Index: [61, 3]&#10;Color: (34, 139, 34)\" style=\"width: 20px; height: 20px;background-color: rgb(34, 139, 34);\"></td></tr><tr><td title=\"Index: [62, 0]&#10;Color: (128, 128, 128)\" style=\"width: 20px; height: 20px;background-color: rgb(128, 128, 128);\"></td><td title=\"Index: [62, 1]&#10;Color: (128, 128, 128)\" style=\"width: 20px; height: 20px;background-color: rgb(128, 128, 128);\"></td><td title=\"Index: [62, 2]&#10;Color: (128, 128, 128)\" style=\"width: 20px; height: 20px;background-color: rgb(128, 128, 128);\"></td><td title=\"Index: [62, 3]&#10;Color: (128, 128, 128)\" style=\"width: 20px; height: 20px;background-color: rgb(128, 128, 128);\"></td></tr><tr><td title=\"Index: [63, 0]&#10;Color: (34, 139, 34)\" style=\"width: 20px; height: 20px;background-color: rgb(34, 139, 34);\"></td><td title=\"Index: [63, 1]&#10;Color: (34, 139, 34)\" style=\"width: 20px; height: 20px;background-color: rgb(34, 139, 34);\"></td><td title=\"Index: [63, 2]&#10;Color: (34, 139, 34)\" style=\"width: 20px; height: 20px;background-color: rgb(34, 139, 34);\"></td><td title=\"Index: [63, 3]&#10;Color: (34, 139, 34)\" style=\"width: 20px; height: 20px;background-color: rgb(34, 139, 34);\"></td></tr><tr><td title=\"Index: [64, 0]&#10;Color: (128, 128, 128)\" style=\"width: 20px; height: 20px;background-color: rgb(128, 128, 128);\"></td><td title=\"Index: [64, 1]&#10;Color: (128, 128, 128)\" style=\"width: 20px; height: 20px;background-color: rgb(128, 128, 128);\"></td><td title=\"Index: [64, 2]&#10;Color: (128, 128, 128)\" style=\"width: 20px; height: 20px;background-color: rgb(128, 128, 128);\"></td><td title=\"Index: [64, 3]&#10;Color: (128, 128, 128)\" style=\"width: 20px; height: 20px;background-color: rgb(128, 128, 128);\"></td></tr><tr><td title=\"Index: [65, 0]&#10;Color: (0, 0, 205)\" style=\"width: 20px; height: 20px;background-color: rgb(0, 0, 205);\"></td><td title=\"Index: [65, 1]&#10;Color: (0, 0, 205)\" style=\"width: 20px; height: 20px;background-color: rgb(0, 0, 205);\"></td><td title=\"Index: [65, 2]&#10;Color: (0, 0, 205)\" style=\"width: 20px; height: 20px;background-color: rgb(0, 0, 205);\"></td><td title=\"Index: [65, 3]&#10;Color: (0, 0, 205)\" style=\"width: 20px; height: 20px;background-color: rgb(0, 0, 205);\"></td></tr><tr><td title=\"Index: [66, 0]&#10;Color: (0, 0, 205)\" style=\"width: 20px; height: 20px;background-color: rgb(0, 0, 205);\"></td><td title=\"Index: [66, 1]&#10;Color: (0, 0, 205)\" style=\"width: 20px; height: 20px;background-color: rgb(0, 0, 205);\"></td><td title=\"Index: [66, 2]&#10;Color: (0, 0, 205)\" style=\"width: 20px; height: 20px;background-color: rgb(0, 0, 205);\"></td><td title=\"Index: [66, 3]&#10;Color: (0, 0, 205)\" style=\"width: 20px; height: 20px;background-color: rgb(0, 0, 205);\"></td></tr><tr><td title=\"Index: [67, 0]&#10;Color: (0, 0, 205)\" style=\"width: 20px; height: 20px;background-color: rgb(0, 0, 205);\"></td><td title=\"Index: [67, 1]&#10;Color: (0, 0, 205)\" style=\"width: 20px; height: 20px;background-color: rgb(0, 0, 205);\"></td><td title=\"Index: [67, 2]&#10;Color: (0, 0, 205)\" style=\"width: 20px; height: 20px;background-color: rgb(0, 0, 205);\"></td><td title=\"Index: [67, 3]&#10;Color: (0, 0, 205)\" style=\"width: 20px; height: 20px;background-color: rgb(0, 0, 205);\"></td></tr><tr><td title=\"Index: [68, 0]&#10;Color: (0, 0, 205)\" style=\"width: 20px; height: 20px;background-color: rgb(0, 0, 205);\"></td><td title=\"Index: [68, 1]&#10;Color: (0, 0, 205)\" style=\"width: 20px; height: 20px;background-color: rgb(0, 0, 205);\"></td><td title=\"Index: [68, 2]&#10;Color: (0, 0, 205)\" style=\"width: 20px; height: 20px;background-color: rgb(0, 0, 205);\"></td><td title=\"Index: [68, 3]&#10;Color: (0, 0, 205)\" style=\"width: 20px; height: 20px;background-color: rgb(0, 0, 205);\"></td></tr><tr><td title=\"Index: [69, 0]&#10;Color: (0, 0, 205)\" style=\"width: 20px; height: 20px;background-color: rgb(0, 0, 205);\"></td><td title=\"Index: [69, 1]&#10;Color: (0, 0, 205)\" style=\"width: 20px; height: 20px;background-color: rgb(0, 0, 205);\"></td><td title=\"Index: [69, 2]&#10;Color: (0, 0, 205)\" style=\"width: 20px; height: 20px;background-color: rgb(0, 0, 205);\"></td><td title=\"Index: [69, 3]&#10;Color: (0, 0, 205)\" style=\"width: 20px; height: 20px;background-color: rgb(0, 0, 205);\"></td></tr><tr><td title=\"Index: [70, 0]&#10;Color: (34, 139, 34)\" style=\"width: 20px; height: 20px;background-color: rgb(34, 139, 34);\"></td><td title=\"Index: [70, 1]&#10;Color: (34, 139, 34)\" style=\"width: 20px; height: 20px;background-color: rgb(34, 139, 34);\"></td><td title=\"Index: [70, 2]&#10;Color: (34, 139, 34)\" style=\"width: 20px; height: 20px;background-color: rgb(34, 139, 34);\"></td><td title=\"Index: [70, 3]&#10;Color: (34, 139, 34)\" style=\"width: 20px; height: 20px;background-color: rgb(34, 139, 34);\"></td></tr><tr><td title=\"Index: [71, 0]&#10;Color: (34, 139, 34)\" style=\"width: 20px; height: 20px;background-color: rgb(34, 139, 34);\"></td><td title=\"Index: [71, 1]&#10;Color: (34, 139, 34)\" style=\"width: 20px; height: 20px;background-color: rgb(34, 139, 34);\"></td><td title=\"Index: [71, 2]&#10;Color: (34, 139, 34)\" style=\"width: 20px; height: 20px;background-color: rgb(34, 139, 34);\"></td><td title=\"Index: [71, 3]&#10;Color: (34, 139, 34)\" style=\"width: 20px; height: 20px;background-color: rgb(34, 139, 34);\"></td></tr><tr><td title=\"Index: [72, 0]&#10;Color: (128, 128, 128)\" style=\"width: 20px; height: 20px;background-color: rgb(128, 128, 128);\"></td><td title=\"Index: [72, 1]&#10;Color: (128, 128, 128)\" style=\"width: 20px; height: 20px;background-color: rgb(128, 128, 128);\"></td><td title=\"Index: [72, 2]&#10;Color: (128, 128, 128)\" style=\"width: 20px; height: 20px;background-color: rgb(128, 128, 128);\"></td><td title=\"Index: [72, 3]&#10;Color: (128, 128, 128)\" style=\"width: 20px; height: 20px;background-color: rgb(128, 128, 128);\"></td></tr><tr><td title=\"Index: [73, 0]&#10;Color: (0, 0, 205)\" style=\"width: 20px; height: 20px;background-color: rgb(0, 0, 205);\"></td><td title=\"Index: [73, 1]&#10;Color: (0, 0, 205)\" style=\"width: 20px; height: 20px;background-color: rgb(0, 0, 205);\"></td><td title=\"Index: [73, 2]&#10;Color: (0, 0, 205)\" style=\"width: 20px; height: 20px;background-color: rgb(0, 0, 205);\"></td><td title=\"Index: [73, 3]&#10;Color: (0, 0, 205)\" style=\"width: 20px; height: 20px;background-color: rgb(0, 0, 205);\"></td></tr><tr><td title=\"Index: [74, 0]&#10;Color: (0, 0, 205)\" style=\"width: 20px; height: 20px;background-color: rgb(0, 0, 205);\"></td><td title=\"Index: [74, 1]&#10;Color: (0, 0, 205)\" style=\"width: 20px; height: 20px;background-color: rgb(0, 0, 205);\"></td><td title=\"Index: [74, 2]&#10;Color: (0, 0, 205)\" style=\"width: 20px; height: 20px;background-color: rgb(0, 0, 205);\"></td><td title=\"Index: [74, 3]&#10;Color: (0, 0, 205)\" style=\"width: 20px; height: 20px;background-color: rgb(0, 0, 205);\"></td></tr><tr><td title=\"Index: [75, 0]&#10;Color: (0, 0, 205)\" style=\"width: 20px; height: 20px;background-color: rgb(0, 0, 205);\"></td><td title=\"Index: [75, 1]&#10;Color: (0, 0, 205)\" style=\"width: 20px; height: 20px;background-color: rgb(0, 0, 205);\"></td><td title=\"Index: [75, 2]&#10;Color: (0, 0, 205)\" style=\"width: 20px; height: 20px;background-color: rgb(0, 0, 205);\"></td><td title=\"Index: [75, 3]&#10;Color: (0, 0, 205)\" style=\"width: 20px; height: 20px;background-color: rgb(0, 0, 205);\"></td></tr><tr><td title=\"Index: [76, 0]&#10;Color: (0, 0, 205)\" style=\"width: 20px; height: 20px;background-color: rgb(0, 0, 205);\"></td><td title=\"Index: [76, 1]&#10;Color: (0, 0, 205)\" style=\"width: 20px; height: 20px;background-color: rgb(0, 0, 205);\"></td><td title=\"Index: [76, 2]&#10;Color: (0, 0, 205)\" style=\"width: 20px; height: 20px;background-color: rgb(0, 0, 205);\"></td><td title=\"Index: [76, 3]&#10;Color: (0, 0, 205)\" style=\"width: 20px; height: 20px;background-color: rgb(0, 0, 205);\"></td></tr><tr><td title=\"Index: [77, 0]&#10;Color: (34, 139, 34)\" style=\"width: 20px; height: 20px;background-color: rgb(34, 139, 34);\"></td><td title=\"Index: [77, 1]&#10;Color: (34, 139, 34)\" style=\"width: 20px; height: 20px;background-color: rgb(34, 139, 34);\"></td><td title=\"Index: [77, 2]&#10;Color: (34, 139, 34)\" style=\"width: 20px; height: 20px;background-color: rgb(34, 139, 34);\"></td><td title=\"Index: [77, 3]&#10;Color: (34, 139, 34)\" style=\"width: 20px; height: 20px;background-color: rgb(34, 139, 34);\"></td></tr><tr><td title=\"Index: [78, 0]&#10;Color: (128, 128, 128)\" style=\"width: 20px; height: 20px;background-color: rgb(128, 128, 128);\"></td><td title=\"Index: [78, 1]&#10;Color: (128, 128, 128)\" style=\"width: 20px; height: 20px;background-color: rgb(128, 128, 128);\"></td><td title=\"Index: [78, 2]&#10;Color: (128, 128, 128)\" style=\"width: 20px; height: 20px;background-color: rgb(128, 128, 128);\"></td><td title=\"Index: [78, 3]&#10;Color: (128, 128, 128)\" style=\"width: 20px; height: 20px;background-color: rgb(128, 128, 128);\"></td></tr><tr><td title=\"Index: [79, 0]&#10;Color: (255, 255, 255)\" style=\"width: 20px; height: 20px;background-color: rgb(255, 255, 255);\"></td><td title=\"Index: [79, 1]&#10;Color: (255, 255, 255)\" style=\"width: 20px; height: 20px;background-color: rgb(255, 255, 255);\"></td><td title=\"Index: [79, 2]&#10;Color: (255, 255, 255)\" style=\"width: 20px; height: 20px;background-color: rgb(255, 255, 255);\"></td><td title=\"Index: [79, 3]&#10;Color: (255, 255, 255)\" style=\"width: 20px; height: 20px;background-color: rgb(255, 255, 255);\"></td></tr><tr><td title=\"Index: [80, 0]&#10;Color: (34, 139, 34)\" style=\"width: 20px; height: 20px;background-color: rgb(34, 139, 34);\"></td><td title=\"Index: [80, 1]&#10;Color: (34, 139, 34)\" style=\"width: 20px; height: 20px;background-color: rgb(34, 139, 34);\"></td><td title=\"Index: [80, 2]&#10;Color: (34, 139, 34)\" style=\"width: 20px; height: 20px;background-color: rgb(34, 139, 34);\"></td><td title=\"Index: [80, 3]&#10;Color: (34, 139, 34)\" style=\"width: 20px; height: 20px;background-color: rgb(34, 139, 34);\"></td></tr><tr><td title=\"Index: [81, 0]&#10;Color: (0, 0, 205)\" style=\"width: 20px; height: 20px;background-color: rgb(0, 0, 205);\"></td><td title=\"Index: [81, 1]&#10;Color: (0, 0, 205)\" style=\"width: 20px; height: 20px;background-color: rgb(0, 0, 205);\"></td><td title=\"Index: [81, 2]&#10;Color: (0, 0, 205)\" style=\"width: 20px; height: 20px;background-color: rgb(0, 0, 205);\"></td><td title=\"Index: [81, 3]&#10;Color: (0, 0, 205)\" style=\"width: 20px; height: 20px;background-color: rgb(0, 0, 205);\"></td></tr></tbody></table>"
      ],
      "text/plain": [
       "<ipythonblocks.ipythonblocks.BlockGrid at 0x7f47fc663240>"
      ]
     },
     "execution_count": 86,
     "metadata": {},
     "output_type": "execute_result"
    }
   ],
   "source": [
    "for i in range(length):\n",
    "    scarf[i,:] = color_palette[coded[i]]\n",
    "scarf"
   ]
  },
  {
   "cell_type": "code",
   "execution_count": 76,
   "metadata": {},
   "outputs": [
    {
     "data": {
      "text/plain": [
       "{'AliceBlue': (240, 248, 255),\n",
       " 'AntiqueWhite': (250, 235, 215),\n",
       " 'Aqua': (0, 255, 255),\n",
       " 'Aquamarine': (127, 255, 212),\n",
       " 'Azure': (240, 255, 255),\n",
       " 'Beige': (245, 245, 220),\n",
       " 'Bisque': (255, 228, 196),\n",
       " 'Black': (0, 0, 0),\n",
       " 'BlanchedAlmond': (255, 235, 205),\n",
       " 'Blue': (0, 0, 255),\n",
       " 'BlueViolet': (138, 43, 226),\n",
       " 'Brown': (165, 42, 42),\n",
       " 'BurlyWood': (222, 184, 135),\n",
       " 'CadetBlue': (95, 158, 160),\n",
       " 'Chartreuse': (127, 255, 0),\n",
       " 'Chocolate': (210, 105, 30),\n",
       " 'Coral': (255, 127, 80),\n",
       " 'CornflowerBlue': (100, 149, 237),\n",
       " 'Cornsilk': (255, 248, 220),\n",
       " 'Crimson': (220, 20, 60),\n",
       " 'Cyan': (0, 255, 255),\n",
       " 'DarkBlue': (0, 0, 139),\n",
       " 'DarkCyan': (0, 139, 139),\n",
       " 'DarkGoldenrod': (184, 134, 11),\n",
       " 'DarkGray': (169, 169, 169),\n",
       " 'DarkGreen': (0, 100, 0),\n",
       " 'DarkKhaki': (189, 183, 107),\n",
       " 'DarkMagenta': (139, 0, 139),\n",
       " 'DarkOliveGreen': (85, 107, 47),\n",
       " 'DarkOrange': (255, 140, 0),\n",
       " 'DarkOrchid': (153, 50, 204),\n",
       " 'DarkRed': (139, 0, 0),\n",
       " 'DarkSalmon': (233, 150, 122),\n",
       " 'DarkSeaGreen': (143, 188, 143),\n",
       " 'DarkSlateBlue': (72, 61, 139),\n",
       " 'DarkSlateGray': (47, 79, 79),\n",
       " 'DarkTurquoise': (0, 206, 209),\n",
       " 'DarkViolet': (148, 0, 211),\n",
       " 'DeepPink': (255, 20, 147),\n",
       " 'DeepSkyBlue': (0, 191, 255),\n",
       " 'DimGray': (105, 105, 105),\n",
       " 'DodgerBlue': (30, 144, 255),\n",
       " 'FireBrick': (178, 34, 34),\n",
       " 'FloralWhite': (255, 250, 240),\n",
       " 'ForestGreen': (34, 139, 34),\n",
       " 'Fuchsia': (255, 0, 255),\n",
       " 'Gainsboro': (220, 220, 220),\n",
       " 'GhostWhite': (248, 248, 255),\n",
       " 'Gold': (255, 215, 0),\n",
       " 'Goldenrod': (218, 165, 32),\n",
       " 'Gray': (128, 128, 128),\n",
       " 'Green': (0, 128, 0),\n",
       " 'GreenYellow': (173, 255, 47),\n",
       " 'Honeydew': (240, 255, 240),\n",
       " 'HotPink': (255, 105, 180),\n",
       " 'IndianRed': (205, 92, 92),\n",
       " 'Indigo': (75, 0, 130),\n",
       " 'Ivory': (255, 255, 240),\n",
       " 'Khaki': (240, 230, 140),\n",
       " 'Lavender': (230, 230, 250),\n",
       " 'LavenderBlush': (255, 240, 245),\n",
       " 'LawnGreen': (124, 252, 0),\n",
       " 'LemonChiffon': (255, 250, 205),\n",
       " 'LightBlue': (173, 216, 230),\n",
       " 'LightCoral': (240, 128, 128),\n",
       " 'LightCyan': (224, 255, 255),\n",
       " 'LightGoldenrodYellow': (250, 250, 210),\n",
       " 'LightGray': (211, 211, 211),\n",
       " 'LightGreen': (144, 238, 144),\n",
       " 'LightPink': (255, 182, 193),\n",
       " 'LightSalmon': (255, 160, 122),\n",
       " 'LightSeaGreen': (32, 178, 170),\n",
       " 'LightSkyBlue': (135, 206, 250),\n",
       " 'LightSlateGray': (119, 136, 153),\n",
       " 'LightSteelBlue': (176, 196, 222),\n",
       " 'LightYellow': (255, 255, 224),\n",
       " 'Lime': (0, 255, 0),\n",
       " 'LimeGreen': (50, 205, 50),\n",
       " 'Linen': (250, 240, 230),\n",
       " 'Magenta': (255, 0, 255),\n",
       " 'Maroon': (128, 0, 0),\n",
       " 'MediumAquamarine': (102, 205, 170),\n",
       " 'MediumBlue': (0, 0, 205),\n",
       " 'MediumOrchid': (186, 85, 211),\n",
       " 'MediumPurple': (147, 112, 219),\n",
       " 'MediumSeaGreen': (60, 179, 113),\n",
       " 'MediumSlateBlue': (123, 104, 238),\n",
       " 'MediumSpringGreen': (0, 250, 154),\n",
       " 'MediumTurquoise': (72, 209, 204),\n",
       " 'MediumVioletRed': (199, 21, 133),\n",
       " 'MidnightBlue': (25, 25, 112),\n",
       " 'MintCream': (245, 255, 250),\n",
       " 'MistyRose': (255, 228, 225),\n",
       " 'Moccasin': (255, 228, 181),\n",
       " 'NavajoWhite': (255, 222, 173),\n",
       " 'Navy': (0, 0, 128),\n",
       " 'OldLace': (253, 245, 230),\n",
       " 'Olive': (128, 128, 0),\n",
       " 'OliveDrab': (107, 142, 35),\n",
       " 'Orange': (255, 165, 0),\n",
       " 'OrangeRed': (255, 69, 0),\n",
       " 'Orchid': (218, 112, 214),\n",
       " 'PaleGoldenrod': (238, 232, 170),\n",
       " 'PaleGreen': (152, 251, 152),\n",
       " 'PaleTurquoise': (175, 238, 238),\n",
       " 'PaleVioletRed': (219, 112, 147),\n",
       " 'PapayaWhip': (255, 239, 213),\n",
       " 'PeachPuff': (255, 218, 185),\n",
       " 'Peru': (205, 133, 63),\n",
       " 'Pink': (255, 192, 203),\n",
       " 'Plum': (221, 160, 221),\n",
       " 'PowderBlue': (176, 224, 230),\n",
       " 'Purple': (128, 0, 128),\n",
       " 'Red': (255, 0, 0),\n",
       " 'RosyBrown': (188, 143, 143),\n",
       " 'RoyalBlue': (65, 105, 225),\n",
       " 'SaddleBrown': (139, 69, 19),\n",
       " 'Salmon': (250, 128, 114),\n",
       " 'SandyBrown': (244, 164, 96),\n",
       " 'SeaGreen': (46, 139, 87),\n",
       " 'Seashell': (255, 245, 238),\n",
       " 'Sienna': (160, 82, 45),\n",
       " 'Silver': (192, 192, 192),\n",
       " 'SkyBlue': (135, 206, 235),\n",
       " 'SlateBlue': (106, 90, 205),\n",
       " 'SlateGray': (112, 128, 144),\n",
       " 'Snow': (255, 250, 250),\n",
       " 'SpringGreen': (0, 255, 127),\n",
       " 'SteelBlue': (70, 130, 180),\n",
       " 'Tan': (210, 180, 140),\n",
       " 'Teal': (0, 128, 128),\n",
       " 'Thistle': (216, 191, 216),\n",
       " 'Tomato': (255, 99, 71),\n",
       " 'Turquoise': (64, 224, 208),\n",
       " 'Violet': (238, 130, 238),\n",
       " 'Wheat': (245, 222, 179),\n",
       " 'White': (255, 255, 255),\n",
       " 'WhiteSmoke': (245, 245, 245),\n",
       " 'Yellow': (255, 255, 0),\n",
       " 'YellowGreen': (154, 205, 50)}"
      ]
     },
     "execution_count": 76,
     "metadata": {},
     "output_type": "execute_result"
    }
   ],
   "source": [
    "### use this?  https://stackoverflow.com/questions/214359/converting-hex-color-to-rgb-and-vice-versa\n",
    "\n",
    "colors"
   ]
  },
  {
   "cell_type": "code",
   "execution_count": null,
   "metadata": {},
   "outputs": [],
   "source": []
  }
 ],
 "metadata": {
  "kernelspec": {
   "display_name": "Python 3",
   "language": "python",
   "name": "python3"
  },
  "language_info": {
   "codemirror_mode": {
    "name": "ipython",
    "version": 3
   },
   "file_extension": ".py",
   "mimetype": "text/x-python",
   "name": "python",
   "nbconvert_exporter": "python",
   "pygments_lexer": "ipython3",
   "version": "3.6.8"
  }
 },
 "nbformat": 4,
 "nbformat_minor": 2
}
